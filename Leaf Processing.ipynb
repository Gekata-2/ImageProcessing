{
 "cells": [
  {
   "cell_type": "markdown",
   "metadata": {},
   "source": [
    "**Импортируем необходимые библиотеки**"
   ]
  },
  {
   "cell_type": "code",
   "execution_count": 180,
   "metadata": {},
   "outputs": [],
   "source": [
    "import cv2 as cv\n",
    "import sys\n",
    "import numpy as np\n",
    "import math as mt\n",
    "from matplotlib import pyplot as plt\n",
    "import glob\n",
    "import os \n",
    "np.random.seed(0)"
   ]
  },
  {
   "cell_type": "markdown",
   "metadata": {},
   "source": [
    "* *Функция для сохранения картинки*"
   ]
  },
  {
   "cell_type": "code",
   "execution_count": 181,
   "metadata": {},
   "outputs": [],
   "source": [
    "def SaveImage(img,name,dst=''):\n",
    "    cv.imwrite(dst+name,img)"
   ]
  },
  {
   "cell_type": "markdown",
   "metadata": {},
   "source": [
    "* *Функции подавлнеия шума: Билетиральный фильтр, Эрозия*"
   ]
  },
  {
   "cell_type": "code",
   "execution_count": 182,
   "metadata": {},
   "outputs": [],
   "source": [
    "def ProcessBileteral(image,file_name):\n",
    "    bileteral=cv.bilateralFilter(image, 20 ,  100 , 100)\n",
    "    SaveImage(np.concatenate([image,bileteral],axis=1),file_name,'method/bileteral/denoising/')\n",
    "    return bileteral\n",
    "\n",
    "def ProcessErode(image,file_name,kernel):\n",
    "    erode=cv.erode(image,kernel)\n",
    "    SaveImage(np.concatenate([image,erode],axis=1),file_name,'method/erosion/denoising/')\n",
    "    return erode\n",
    "\n",
    "def ProcessNonLocalMeans(image,file_name):\n",
    "    nonlm_img=cv.fastNlMeansDenoisingColored (image,None,10,10,7,21)\n",
    "    SaveImage(np.concatenate([image,nonlm_img],axis=1),file_name,'method/non-local means/denoising/')\n",
    "    return nonlm_img\n"
   ]
  },
  {
   "cell_type": "code",
   "execution_count": 183,
   "metadata": {},
   "outputs": [],
   "source": [
    "def WatershedProcess(image,name,dst):\n",
    "\n",
    "    hsv_image=cv.cvtColor(image,cv.COLOR_BGR2HSV)# Конвертируем изображение в HSV формат\n",
    "\n",
    "    healty_part=cv.inRange(hsv_image,(36,10,25),(86,255,255)) # Выделяем здоровую область\n",
    "    background=cv.inRange(hsv_image,(90,5,25),(240,255,255))+cv.inRange(hsv_image,(0,5,31),(2,255,255)) # Выделяем фон\n",
    "    shadows=cv.inRange(hsv_image,(0,0,0),(240,255,25)) # Выделяем тень\n",
    "\n",
    "    \n",
    "    #Делаем случайную маску с шансами p1 и p2  для того чтобы доавлять маркеры случайно\n",
    "    p1,p2=1,0.2\n",
    "    healty_randomized_mask=np.random.choice(a=[True, False], size=(image.shape[0],image.shape[1]), p=[p1, 1-p1])  \n",
    "    background_randomized_mask=np.random.choice(a=[True, False], size=(image.shape[0],image.shape[1]), p=[p2, 1-p2]) \n",
    "\n",
    "    #healty_mask=healty_part and healty_randomized_mask\n",
    "    healty_mask=np.all([healty_part>0,healty_randomized_mask==True],axis=0)\n",
    "\n",
    "    #background_mask=(shadows or background) and background_randomized_mask\n",
    "    background_mask=np.any([background>0,shadows>0],axis=0)\n",
    "    background_mask=np.all([background_mask,background_randomized_mask==True],axis=0)\n",
    "\n",
    "    #Рисуем картинку с маркерами\n",
    "    markers_visualization=np.zeros_like(image,np.uint8)\n",
    "    markers_visualization[healty_mask==True]=(0,255,128)\n",
    "    markers_visualization[background_mask==True]=(255,168,211)\n",
    "    \n",
    "    SaveImage(np.concatenate([image,markers_visualization],axis=1),name,dst+'markers/')\n",
    "    \n",
    "\n",
    "    #Делаем маркеры\n",
    "    markers=np.zeros((image.shape[0],image.shape[1]),dtype='int32')\n",
    "\n",
    "    markers[healty_mask==True]=255\n",
    "    markers[background_mask==True]=1\n",
    "\n",
    "    #Запускаем алгоритм\n",
    "    labels =cv.watershed(hsv_image,markers)\n",
    "    colors=[(125,0,255),(0,0,0),(125,255,0),(0,255,255)]\n",
    "   \n",
    "    result_img=np.zeros_like(image,np.uint8)\n",
    "    i=0\n",
    "    for label in np.unique(labels):\n",
    "        if label == 0:\n",
    "            continue\n",
    "        result_img[labels == label] = colors[i]\n",
    "        i+=1\n",
    "\n",
    "    watershed_img= np.copy(result_img)\n",
    "    SaveImage(np.concatenate([image,watershed_img],axis=1),name,dst+'watershed/')\n",
    "\n",
    "    #Находим больную часть\n",
    "    ill_part=labels-healty_part\n",
    "    result_img[ill_part>1]=colors[3]\n",
    "    SaveImage(np.concatenate([image,result_img],axis=1),name,dst+'recognizing/')\n",
    "\n",
    "    #Сохраняем и показываем все этапы картинки\n",
    "    conc=np.concatenate([image,markers_visualization,watershed_img,result_img],axis=1)\n",
    "    SaveImage(conc,name,dst+'summary/')\n",
    "    cv.imshow('Display window',conc)\n",
    "    cv.waitKey(0)\n",
    "\n",
    "\n",
    "\n"
   ]
  },
  {
   "cell_type": "markdown",
   "metadata": {},
   "source": [
    "* *Полная обработка всех изображений для разных методов обработки шума*"
   ]
  },
  {
   "cell_type": "code",
   "execution_count": 184,
   "metadata": {},
   "outputs": [],
   "source": [
    "def ProcessImagesBileteral(images_paths):\n",
    "    for image_path in images_paths:\n",
    "        name=image_path[image_path.rfind('\\\\')+1:]\n",
    "        image=cv.imread(image_path)\n",
    "        \n",
    "        bileteral_img=ProcessBileteral(image,name)\n",
    "        WatershedProcess(bileteral_img,name,'method/bileteral/h=20,sigcolor=100,sigcoord=100,markers 1,0.2')\n",
    "        print('\\n\\n')\n",
    "\n",
    "def ProcessImagesErode(images_paths):\n",
    "    for image_path in images_paths:\n",
    "        name=image_path[image_path.rfind('\\\\')+1:]\n",
    "        image=cv.imread(image_path) \n",
    "        kernel=cv.getStructuringElement(cv.MORPH_ELLIPSE,(3,3))\n",
    "        erode_img=ProcessErode(image,name,kernel)\n",
    "        WatershedProcess(erode_img,name,'method/erosion/')\n",
    "\n",
    "def ProcessImagesNonLocalMeans(images_paths):\n",
    "    for image_path in images_paths:\n",
    "        name=image_path[image_path.rfind('\\\\')+1:]\n",
    "        image=cv.imread(image_path)\n",
    "\n",
    "        nonlm_img=ProcessNonLocalMeans(image,name)\n",
    "        WatershedProcess(nonlm_img,name,'method/non-local means/')"
   ]
  },
  {
   "cell_type": "markdown",
   "metadata": {},
   "source": [
    "* *Получение путей всех картинок и запуск их обработки*"
   ]
  },
  {
   "cell_type": "code",
   "execution_count": 185,
   "metadata": {},
   "outputs": [
    {
     "name": "stdout",
     "output_type": "stream",
     "text": [
      "\n",
      "\n",
      "\n",
      "\n",
      "\n",
      "\n",
      "\n",
      "\n",
      "\n",
      "\n",
      "\n",
      "\n",
      "\n",
      "\n",
      "\n",
      "\n",
      "\n",
      "\n",
      "\n",
      "\n",
      "\n",
      "\n",
      "\n",
      "\n",
      "\n",
      "\n",
      "\n",
      "\n",
      "\n",
      "\n",
      "\n",
      "\n",
      "\n",
      "\n",
      "\n",
      "\n"
     ]
    }
   ],
   "source": [
    "images_paths=[path for path in glob.glob('test/*.jpg')]\n",
    "ProcessImagesBileteral(images_paths)\n",
    "#ProcessImagesErode(images_paths)\n",
    "#ProcessImagesNonLocalMeans(images_paths)\n",
    "cv.destroyAllWindows()"
   ]
  }
 ],
 "metadata": {
  "interpreter": {
   "hash": "0b3367e64c9997872e0feb63ecb07cabad7ba9305fb58b37fd4d209ffb59717f"
  },
  "kernelspec": {
   "display_name": "Python 3.9.7 64-bit (windows store)",
   "name": "python3"
  },
  "language_info": {
   "codemirror_mode": {
    "name": "ipython",
    "version": 3
   },
   "file_extension": ".py",
   "mimetype": "text/x-python",
   "name": "python",
   "nbconvert_exporter": "python",
   "pygments_lexer": "ipython3",
   "version": "3.9.7"
  },
  "orig_nbformat": 4
 },
 "nbformat": 4,
 "nbformat_minor": 2
}
