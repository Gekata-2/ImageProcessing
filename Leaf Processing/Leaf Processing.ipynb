{
 "cells": [
  {
   "cell_type": "markdown",
   "metadata": {},
   "source": [
    "**Импортируем необходимые библиотеки**"
   ]
  },
  {
   "cell_type": "code",
   "execution_count": 85,
   "metadata": {},
   "outputs": [],
   "source": [
    "import cv2 as cv\n",
    "import sys\n",
    "import numpy as np\n",
    "import math as mt\n",
    "from matplotlib import pyplot as plt\n",
    "import glob\n",
    "import os \n",
    "np.random.seed(0)"
   ]
  },
  {
   "cell_type": "markdown",
   "metadata": {},
   "source": [
    "* *Функция для сохранения картинки*"
   ]
  },
  {
   "cell_type": "code",
   "execution_count": 86,
   "metadata": {},
   "outputs": [],
   "source": [
    "def SaveImage(img,name,dst=''):\n",
    "    cv.imwrite(dst+name,img)"
   ]
  },
  {
   "cell_type": "markdown",
   "metadata": {},
   "source": [
    "* *Функции подавлнеия шума: Билетиральный фильтр, Эрозия*"
   ]
  },
  {
   "cell_type": "code",
   "execution_count": 87,
   "metadata": {},
   "outputs": [],
   "source": [
    "def ProcessBileteral(image,name):\n",
    "    bileteral=cv.bilateralFilter(image, 15 ,  75 , 75)\n",
    "    SaveImage(bileteral,name,'method/bileteral/denoising/')\n",
    "    return bileteral\n",
    "\n",
    "def ProcessErode(image,name,kernel):\n",
    "    erode=cv.erode(image,kernel)\n",
    "    SaveImage(image,name,'method/erosion/denoising/')\n",
    "    return erode"
   ]
  },
  {
   "cell_type": "code",
   "execution_count": null,
   "metadata": {},
   "outputs": [],
   "source": []
  },
  {
   "cell_type": "code",
   "execution_count": 88,
   "metadata": {},
   "outputs": [],
   "source": [
    "def CalculateMask(image,name,dst):\n",
    "\n",
    "    hsv_image=cv.cvtColor(image,cv.COLOR_BGR2HSV)# Конвертируем изображение в HSV формат\n",
    "\n",
    "    healty_part=cv.inRange(hsv_image,(36,10,25),(86,255,255)) # Выделяем здоровую область\n",
    "    background=cv.inRange(hsv_image,(90,5,25),(240,255,255))+cv.inRange(hsv_image,(0,5,31),(2,255,255)) # Выделяем фон\n",
    "    shadows=cv.inRange(hsv_image,(0,0,0),(240,255,25)) # Выделяем тень\n",
    "\n",
    "    \n",
    "    #Делаем случайную маску с шансами p1 и p2  для того чтобы доавлять маркеры случайно\n",
    "    p1,p2=1,1\n",
    "    healty_randomized_mask=np.random.choice(a=[True, False], size=(image.shape[0],image.shape[1]), p=[p1, 1-p1])  \n",
    "    background_randomized_mask=np.random.choice(a=[True, False], size=(image.shape[0],image.shape[1]), p=[p2, 1-p2]) \n",
    "\n",
    "    #healty_mask=healty_part and healty_randomized_mask\n",
    "    healty_mask=np.all([healty_part>0,healty_randomized_mask==True],axis=0)\n",
    "\n",
    "    #background_mask=(shadows or background) and background_randomized_mask\n",
    "    background_mask=np.any([background>0,shadows>0],axis=0)\n",
    "    background_mask=np.all([background_mask,background_randomized_mask==True],axis=0)\n",
    "\n",
    "    #Рисуем картинку с маркерами\n",
    "    markers_visualization=np.zeros_like(image,np.uint8)\n",
    "    markers_visualization[healty_mask==True]=(0,230,100)\n",
    "    markers_visualization[background_mask==True]=(0,100,230)\n",
    "    \n",
    "    SaveImage(np.concatenate([markers_visualization,image],axis=1),name,dst+'markers/')\n",
    "    \n",
    "\n",
    "    #Делаем маркеры\n",
    "    markers=np.zeros((image.shape[0],image.shape[1]),dtype='int32')\n",
    "\n",
    "    markers[healty_mask==True]=255\n",
    "    markers[background_mask==True]=1\n",
    "\n",
    "    #Запускаем алгоритм\n",
    "    labels =cv.watershed(hsv_image,markers)\n",
    "    print( np.unique(labels))\n",
    "    colors=[(125,0,255),(0,0,0),(125,255,0),(0,255,255)]\n",
    "   \n",
    "    result=np.zeros_like(image,np.uint8)\n",
    "    i=0\n",
    "    for label in np.unique(labels): \n",
    "        result[labels == label] = colors[i]\n",
    "        i+=1\n",
    "\n",
    "    watershed_img= np.copy(result)\n",
    "    SaveImage(watershed_img,name,dst+'watershed/')\n",
    "\n",
    "    #Находим больную часть\n",
    "    ill_part=labels-healty_part\n",
    "    result[ill_part>1]=colors[3]\n",
    "    SaveImage(result,name,dst+'recognizing/')\n",
    "\n",
    "    #Сохраняем и показываем все этапы картинки\n",
    "    conc=np.concatenate([image,markers_visualization,watershed_img,result],axis=1)\n",
    "    SaveImage(conc,name,dst+'summary/')\n",
    "    cv.imshow('Display window',conc)\n",
    "    cv.waitKey(0)\n",
    "\n",
    "\n",
    "\n"
   ]
  },
  {
   "cell_type": "markdown",
   "metadata": {},
   "source": [
    "* *Полная обработка всех изображений для разных методов обработки шума*"
   ]
  },
  {
   "cell_type": "code",
   "execution_count": 89,
   "metadata": {},
   "outputs": [],
   "source": [
    "def ProcessImagesBileteral(images_paths):\n",
    "    for image_path in images_paths:\n",
    "        image=cv.imread(image_path)\n",
    "        name=image_path[image_path.rfind('\\\\')+1:]\n",
    "        bileteral=ProcessBileteral(image,name)\n",
    "        CalculateMask(bileteral,name,'method/bileteral/')\n",
    "\n",
    "def ProcessImagesErode(images_paths):\n",
    "    for image_path in images_paths:\n",
    "        image=cv.imread(image_path)\n",
    "        name=image_path[image_path.rfind('\\\\')+1:]\n",
    "        kernel=cv.getStructuringElement(cv.MORPH_ELLIPSE,(7,7))\n",
    "        erode=ProcessErode(image,name,kernel)\n",
    "        CalculateMask(erode,name,'method/erosion/')"
   ]
  },
  {
   "cell_type": "markdown",
   "metadata": {},
   "source": [
    "* *Получение путей всех картинок и запуск их обработки*"
   ]
  },
  {
   "cell_type": "code",
   "execution_count": 90,
   "metadata": {},
   "outputs": [
    {
     "name": "stdout",
     "output_type": "stream",
     "text": [
      "e:\\PROGRAMMING\\Python\\Image Processing\n",
      "[ -1   1 255]\n",
      "[ -1   1 255]\n",
      "[ -1   1 255]\n",
      "[ -1   1 255]\n",
      "[ -1   1 255]\n",
      "[ -1   1 255]\n",
      "[ -1   1 255]\n",
      "[ -1   1 255]\n",
      "[ -1   1 255]\n",
      "[ -1   1 255]\n",
      "[ -1   1 255]\n",
      "[ -1   1 255]\n"
     ]
    }
   ],
   "source": [
    "print(os.getcwd()) \n",
    "images_paths=[path for path in glob.glob('test/*.jpg')]\n",
    "ProcessImagesBileteral(images_paths)\n",
    "cv.destroyAllWindows()"
   ]
  }
 ],
 "metadata": {
  "interpreter": {
   "hash": "0b3367e64c9997872e0feb63ecb07cabad7ba9305fb58b37fd4d209ffb59717f"
  },
  "kernelspec": {
   "display_name": "Python 3.9.7 64-bit (windows store)",
   "name": "python3"
  },
  "language_info": {
   "codemirror_mode": {
    "name": "ipython",
    "version": 3
   },
   "file_extension": ".py",
   "mimetype": "text/x-python",
   "name": "python",
   "nbconvert_exporter": "python",
   "pygments_lexer": "ipython3",
   "version": "3.9.7"
  },
  "orig_nbformat": 4
 },
 "nbformat": 4,
 "nbformat_minor": 2
}
