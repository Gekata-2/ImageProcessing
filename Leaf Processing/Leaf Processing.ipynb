{
 "cells": [
  {
   "cell_type": "markdown",
   "metadata": {},
   "source": [
    "* *Импортируем необходимые библиотеки*"
   ]
  },
  {
   "cell_type": "code",
   "execution_count": 34,
   "metadata": {},
   "outputs": [],
   "source": [
    "import cv2 as cv\n",
    "import numpy as np\n",
    "import glob\n",
    "np.random.seed(0)"
   ]
  },
  {
   "cell_type": "markdown",
   "metadata": {},
   "source": [
    "* *Функция для сохранения картинки*"
   ]
  },
  {
   "cell_type": "code",
   "execution_count": 35,
   "metadata": {},
   "outputs": [],
   "source": [
    "def SaveImage(img,name,dst=''):\n",
    "    cv.imwrite(dst+name,img)"
   ]
  },
  {
   "cell_type": "markdown",
   "metadata": {},
   "source": [
    "* *Выявление повреждённой части листа*\n",
    "  * Для показа следующей картинки нужно нажать любую клавишу"
   ]
  },
  {
   "cell_type": "code",
   "execution_count": 36,
   "metadata": {},
   "outputs": [],
   "source": [
    "def FindDamagedAndNonDamagedZones(image,name,dst,p1=1,p2=1,manually=False,markers_man=None):\n",
    "\n",
    "    hsv_image=cv.cvtColor(image,cv.COLOR_BGR2HSV)# Конвертируем изображение в HSV формат\n",
    "   \n",
    "    healty_part=cv.inRange(hsv_image,(36,10,25),(86,255,255)) # Выделяем здоровую область\n",
    "    markers_visualization=np.zeros_like(image,np.uint8)\n",
    "    markers=np.zeros( (image.shape[0],image.shape[1]), dtype = \"int32\")\n",
    "    if manually==False:\n",
    "        background=cv.inRange(hsv_image,(90,5,25),(240,255,255))+cv.inRange(hsv_image,(0,5,31),(2,255,255)) # Выделяем фон\n",
    "        shadows=cv.inRange(hsv_image,(0,0,0),(240,255,25)) # Выделяем тень\n",
    "\n",
    "        \n",
    "        #Делаем случайную маску с шансами p1 и p2  для того чтобы доавлять маркеры случайно\n",
    "        healty_randomized_mask=np.random.choice(a=[True, False], size=(image.shape[0],image.shape[1]), p=[p1, 1-p1])  \n",
    "        background_randomized_mask=np.random.choice(a=[True, False], size=(image.shape[0],image.shape[1]), p=[p2, 1-p2]) \n",
    "\n",
    "        #healty_mask=healty_part and healty_randomized_mask\n",
    "        healty_mask=np.all([healty_part>0,healty_randomized_mask==True],axis=0)\n",
    "\n",
    "        #background_mask=(shadows or background) and background_randomized_mask\n",
    "        background_mask=np.any([background>0,shadows>0],axis=0)\n",
    "        background_mask=np.all([background_mask,background_randomized_mask==True],axis=0)\n",
    "\n",
    "        #Рисуем картинку с маркерами\n",
    "        \n",
    "        markers_visualization[healty_mask==True]=(0,255,128)\n",
    "        markers_visualization[background_mask==True]=(255,168,211)\n",
    "\n",
    "       \n",
    "        markers[healty_mask==True]=255\n",
    "        markers[background_mask==True]=1\n",
    "    else:\n",
    "        markers=markers_man\n",
    "        markers_visualization[markers==255]=(0,255,128)\n",
    "        markers_visualization[markers==1]=(255,168,211)\n",
    "    \n",
    "    SaveImage(np.concatenate([image,markers_visualization],axis=1),name,dst+'markers/')\n",
    "    \n",
    "\n",
    "    #Делаем маркеры\n",
    "   \n",
    "\n",
    "    #Запускаем алгоритм\n",
    "    labels =cv.watershed(hsv_image,markers)\n",
    "    colors=[(125,0,255),(0,0,0),(125,255,0),(0,255,255)]\n",
    "   \n",
    "    result_img=np.zeros_like(image,np.uint8)\n",
    "    i=0\n",
    "    for label in np.unique(labels):\n",
    "        if label == 0:\n",
    "            continue\n",
    "        result_img[labels == label] = colors[i]\n",
    "        i+=1\n",
    "\n",
    "    watershed_img= np.copy(result_img)\n",
    "    SaveImage(np.concatenate([image,watershed_img],axis=1),name,dst+'watershed/')\n",
    "\n",
    "    #Находим больную часть\n",
    "    ill_part=labels-healty_part\n",
    "    result_img[ill_part>1]=colors[3]\n",
    "    SaveImage(np.concatenate([image,result_img],axis=1),name,dst+'recognizing/')\n",
    "\n",
    "    #Сохраняем и показываем все этапы картинки\n",
    "    conc=np.concatenate([image,markers_visualization,watershed_img,result_img],axis=1)\n",
    "    SaveImage(conc,name,dst+'summary/')\n",
    "    cv.imshow('Display window',conc)\n",
    "    cv.waitKey(0)\n",
    "    return result_img\n",
    "\n",
    "\n"
   ]
  },
  {
   "cell_type": "markdown",
   "metadata": {},
   "source": [
    "* *Полная обработка всех изображений для разных методов обработки шума*"
   ]
  },
  {
   "cell_type": "code",
   "execution_count": 37,
   "metadata": {},
   "outputs": [],
   "source": [
    "def ProcessImagesBileteral(images_paths,d,sigmaColor,sigaSpace,p1,p2):\n",
    "    for image_path in images_paths:\n",
    "        name=image_path[image_path.rfind('\\\\')+1:]\n",
    "        image=cv.imread(image_path)\n",
    "        \n",
    "        dst='method/bileteral/'+'d='+str(d)+' sigmaColor='+str(sigmaColor)+' sigmaSpace='+str(sigaSpace)+' markers='+str(p1)+','+str(p2)+'/'\n",
    "        \n",
    "        bileteral_img=cv.bilateralFilter(image, d ,  sigmaColor , sigaSpace)\n",
    "        SaveImage(np.concatenate([image,bileteral_img],axis=1),name,dst+'denoising/')\n",
    "       \n",
    "        res=FindDamagedAndNonDamagedZones(bileteral_img,name,dst,p1,p2)\n",
    "        SaveImage(np.concatenate([image,res],axis=1),name,dst+'comparison/')\n",
    "\n",
    "def ProcessImagesErode(images_paths,figure,sizes,p1,p2):\n",
    "    for image_path in images_paths:\n",
    "        name=image_path[image_path.rfind('\\\\')+1:]\n",
    "        image=cv.imread(image_path) \n",
    "\n",
    "        dst='method/erosion/Ellipse'+str(sizes)+' markers='+str(p1)+','+str(p2)+'/'\n",
    "\n",
    "        kernel=cv.getStructuringElement(figure,sizes)\n",
    "        erode_img=cv.erode(image,kernel)\n",
    "        SaveImage(np.concatenate([image,erode_img],axis=1),name,dst+'denoising/')\n",
    "        \n",
    "        res=FindDamagedAndNonDamagedZones(erode_img,name,dst,p1,p2)\n",
    "        SaveImage(np.concatenate([image,res],axis=1),name,dst+'comparison/')\n",
    "\n",
    "\n",
    "def ProcessImagesNonLocalMeans(images_paths,h,hColor,templateWindowSize,searchWindowSize,p1,p2):\n",
    "    for image_path in images_paths:\n",
    "        name=image_path[image_path.rfind('\\\\')+1:]\n",
    "        image=cv.imread(image_path)\n",
    "\n",
    "        dst='method/non-local means/'+'h='+str(h)+' hColor='+str(hColor)+' templateWindowSize='+str(templateWindowSize)+' searchWindowSize='+str(searchWindowSize)+' markers='+str(p1)+','+str(p2)+'/'\n",
    "\n",
    "        nonlm_img=cv.fastNlMeansDenoisingColored(image,None,h,hColor,templateWindowSize,searchWindowSize)\n",
    "        SaveImage(np.concatenate([image,nonlm_img],axis=1),name,dst+'denoising/')\n",
    "        \n",
    "        res=FindDamagedAndNonDamagedZones(nonlm_img,name,dst,p1,p2)\n",
    "\n",
    "        SaveImage(np.concatenate([image,res],axis=1),name,dst+'comparison/')"
   ]
  },
  {
   "cell_type": "markdown",
   "metadata": {},
   "source": [
    "* *Получение путей всех картинок и запуск их обработки*"
   ]
  },
  {
   "cell_type": "code",
   "execution_count": 38,
   "metadata": {},
   "outputs": [],
   "source": [
    "images_paths=[path for path in glob.glob('test/*.jpg')]\n",
    "ProcessImagesBileteral(images_paths,15,75,75,1,1)\n",
    "ProcessImagesBileteral(images_paths,15,75,75,0.5,0.5)\n",
    "ProcessImagesBileteral(images_paths,15,75,75,1,0.2)\n",
    "ProcessImagesBileteral(images_paths,10,50,50,1,0.2)\n",
    "ProcessImagesBileteral(images_paths,20,100,100,1,0.2)\n",
    "ProcessImagesErode(images_paths,cv.MORPH_ELLIPSE,(3,3),1,0.2)\n",
    "ProcessImagesErode(images_paths,cv.MORPH_ELLIPSE,(5,5),1,0.2)\n",
    "ProcessImagesErode(images_paths,cv.MORPH_ELLIPSE,(7,7),1,0.2)\n",
    "ProcessImagesErode(images_paths,cv.MORPH_ELLIPSE,(9,9),1,0.2)\n",
    "ProcessImagesNonLocalMeans(images_paths,5,10,7,21,1,0.2)\n",
    "ProcessImagesNonLocalMeans(images_paths,10,10,7,21,1,0.2)\n",
    "ProcessImagesNonLocalMeans(images_paths,15,10,7,21,1,0.2)\n",
    "\n",
    "\n",
    "image_path='test/3.jpg'\n",
    "name=image_path[image_path.rfind('/')+1:]\n",
    "image=cv.imread(image_path)\n",
    "      \n",
    "bileteral_img=cv.bilateralFilter(image, 15 ,  75 , 75)\n",
    "SaveImage(np.concatenate([image,bileteral_img],axis=1),name,'method/bileteral/manually/denoising/')\n",
    "\n",
    "markers=np.zeros( (image.shape[0],image.shape[1]), dtype = \"int32\")\n",
    "markers[100:180,80:160]=255\n",
    "markers[10:30,10:30]=1\n",
    "markers[210:230,10:30]=1\n",
    "markers[10:30,210:230]=1\n",
    "markers[210:230,210:230]=1\n",
    "\n",
    "FindDamagedAndNonDamagedZones(bileteral_img,name,'method/bileteral/manually/',1,0.2,True,markers)\n",
    "cv.destroyAllWindows()"
   ]
  }
 ],
 "metadata": {
  "interpreter": {
   "hash": "0b3367e64c9997872e0feb63ecb07cabad7ba9305fb58b37fd4d209ffb59717f"
  },
  "kernelspec": {
   "display_name": "Python 3.9.7 64-bit (windows store)",
   "name": "python3"
  },
  "language_info": {
   "codemirror_mode": {
    "name": "ipython",
    "version": 3
   },
   "file_extension": ".py",
   "mimetype": "text/x-python",
   "name": "python",
   "nbconvert_exporter": "python",
   "pygments_lexer": "ipython3",
   "version": "3.9.7"
  },
  "orig_nbformat": 4
 },
 "nbformat": 4,
 "nbformat_minor": 2
}
