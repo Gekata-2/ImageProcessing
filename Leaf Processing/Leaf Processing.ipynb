{
 "cells": [
  {
   "cell_type": "code",
   "execution_count": 619,
   "metadata": {},
   "outputs": [],
   "source": [
    "import cv2 as cv\n",
    "import sys\n",
    "import numpy as np\n",
    "import math as mt\n",
    "from matplotlib import pyplot as plt\n",
    "import glob\n",
    "\n",
    "np.random.seed(0)"
   ]
  },
  {
   "cell_type": "code",
   "execution_count": 620,
   "metadata": {},
   "outputs": [],
   "source": [
    "def SaveImage(img,name,dst=''):\n",
    "    cv.imwrite(dst+name,img)"
   ]
  },
  {
   "cell_type": "code",
   "execution_count": 621,
   "metadata": {},
   "outputs": [],
   "source": [
    "def ProcessBileteral(image,name):\n",
    "    bileteral=cv.bilateralFilter(image, 15 ,  75 , 75)\n",
    "    SaveImage(bileteral,name,'method/bileteral/denoising/')\n",
    "    return bileteral\n",
    "\n",
    "def ProcessErode(image,name,kernel):\n",
    "    erode=cv.erode(image,kernel)\n",
    "    SaveImage(image,name,'method/erosion/denoising/')\n",
    "    return erode"
   ]
  },
  {
   "cell_type": "code",
   "execution_count": 622,
   "metadata": {},
   "outputs": [],
   "source": [
    "def CalculateMask(image,name,dst):\n",
    "\n",
    "    hsv_image=cv.cvtColor(image,cv.COLOR_BGR2HSV)\n",
    "\n",
    "    healty_part=cv.inRange(hsv_image,(36,10,25),(86,255,255))\n",
    "    background=cv.inRange(hsv_image,(90,5,25),(240,255,255))+cv.inRange(hsv_image,(0,5,31),(2,255,255))\n",
    "    shadows=cv.inRange(hsv_image,(0,0,0),(240,255,25))\n",
    "    \n",
    "    leafs_mark_vis=np.zeros_like(image,np.uint8)\n",
    "    leafs_mark_vis[healty_part>0]=(255,0,255)\n",
    "\n",
    "    background_mark_vis=np.zeros_like(image,np.uint8)\n",
    "    background_mark_vis[background>0]=(255,255,255)\n",
    "\n",
    "    shadows_mark_vis=np.zeros_like(image,np.uint8)\n",
    "    shadows_mark_vis[shadows>0]=(0,0,255)\n",
    "\n",
    "    markers_visualization=leafs_mark_vis+background_mark_vis+shadows_mark_vis\n",
    "\n",
    "    SaveImage(np.concatenate([markers_visualization,image],axis=1),name,dst+'markers/')\n",
    "    \n",
    "\n",
    "    healty_mask=np.random.choice(a=[True, False], size=(image.shape[0],image.shape[1]), p=[1, 0])  \n",
    "    background_shadows_mask=np.random.choice(a=[True, True], size=(image.shape[0],image.shape[1]), p=[1, 0]) \n",
    "    markers=np.zeros((image.shape[0],image.shape[1]),dtype='int32')\n",
    "\n",
    "    markers[np.all([healty_part>0,healty_mask==True],axis=0)]=255\n",
    "    markers[ np.all( [np.any([background>0,shadows>0],axis=0),background_shadows_mask==True],  axis=0) ]=1\n",
    "    \n",
    "    labels =cv.watershed(hsv_image,markers)\n",
    "    print( np.unique(labels))\n",
    "    colors=[(125,0,255),(0,0,0),(125,255,0),(0,255,255)]\n",
    "   \n",
    "    mask=np.zeros_like(image,np.uint8)\n",
    "    i=0\n",
    "    for label in np.unique(labels): \n",
    "        mask[labels == label] = colors[i]\n",
    "        i+=1\n",
    "    mask_leafs_only= np.copy(mask)\n",
    "\n",
    "    ill_part=labels-healty_part\n",
    "    mask[ill_part>1]=colors[3]\n",
    "    conc=np.concatenate([image,markers_visualization,mask_leafs_only,mask],axis=1)\n",
    "    SaveImage(conc,name,dst+'recognizing/')\n",
    "    cv.imshow('Display window',conc)\n",
    "    cv.waitKey(0)\n",
    "\n",
    "\n",
    "\n"
   ]
  },
  {
   "cell_type": "code",
   "execution_count": 623,
   "metadata": {},
   "outputs": [],
   "source": [
    "def ProcessImagesBileteral(images_paths):\n",
    "    for image_path in images_paths:\n",
    "        image=cv.imread(image_path)\n",
    "        name=image_path[image_path.rfind('\\\\')+1:]\n",
    "        bileteral=ProcessBileteral(image,name)\n",
    "        CalculateMask(bileteral,name,'method/bileteral/')\n",
    "\n",
    "def ProcessImagesErode(images_paths):\n",
    "    for image_path in images_paths:\n",
    "        image=cv.imread(image_path)\n",
    "        name=image_path[image_path.rfind('\\\\')+1:]\n",
    "        kernel=cv.getStructuringElement(cv.MORPH_ELLIPSE,(7,7))\n",
    "        erode=ProcessErode(image,name,kernel)\n",
    "        CalculateMask(erode,name,'method/erosion/')"
   ]
  },
  {
   "cell_type": "code",
   "execution_count": 624,
   "metadata": {},
   "outputs": [
    {
     "name": "stdout",
     "output_type": "stream",
     "text": [
      "[ -1   1 255]\n",
      "[ -1   1 255]\n",
      "[ -1   1 255]\n",
      "[ -1   1 255]\n",
      "[ -1   1 255]\n",
      "[ -1   1 255]\n",
      "[ -1   1 255]\n",
      "[ -1   1 255]\n",
      "[ -1   1 255]\n",
      "[ -1   1 255]\n",
      "[ -1   1 255]\n",
      "[ -1   1 255]\n"
     ]
    }
   ],
   "source": [
    "images_paths=[path for path in glob.glob('test/*.jpg')]\n",
    "ProcessImagesBileteral(images_paths)\n",
    "cv.destroyAllWindows()"
   ]
  }
 ],
 "metadata": {
  "interpreter": {
   "hash": "0b3367e64c9997872e0feb63ecb07cabad7ba9305fb58b37fd4d209ffb59717f"
  },
  "kernelspec": {
   "display_name": "Python 3.9.7 64-bit (windows store)",
   "name": "python3"
  },
  "language_info": {
   "codemirror_mode": {
    "name": "ipython",
    "version": 3
   },
   "file_extension": ".py",
   "mimetype": "text/x-python",
   "name": "python",
   "nbconvert_exporter": "python",
   "pygments_lexer": "ipython3",
   "version": "3.9.7"
  },
  "orig_nbformat": 4
 },
 "nbformat": 4,
 "nbformat_minor": 2
}
